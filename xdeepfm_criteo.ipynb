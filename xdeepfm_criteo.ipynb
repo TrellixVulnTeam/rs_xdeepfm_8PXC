{
 "cells": [
  {
   "cell_type": "markdown",
   "metadata": {},
   "source": [
    "<i>Copyright (c) Microsoft Corporation. All rights reserved.</i>\n",
    "\n",
    "<i>Licensed under the MIT License.</i>"
   ]
  },
  {
   "cell_type": "markdown",
   "metadata": {},
   "source": [
    "# xDeepFM : the eXtreme Deep Factorization Machine \n",
    "This notebook will give you a quick example of how to train an [xDeepFM model](https://arxiv.org/abs/1803.05170). \n",
    "xDeepFM \\[1\\] is a deep learning-based model aims at capturing both lower- and higher-order feature interactions for precise recommender systems. Thus it can learn feature interactions more effectively and manual feature engineering effort can be substantially reduced. To summarize, xDeepFM has the following key properties:\n",
    "* It contains a component, named CIN, that learns feature interactions in an explicit fashion and in vector-wise level;\n",
    "* It contains a traditional DNN component that learns feature interactions in an implicit fashion and in bit-wise level.\n",
    "* The implementation makes this model quite configurable. We can enable different subsets of components by setting hyperparameters like `use_Linear_part`, `use_FM_part`, `use_CIN_part`, and `use_DNN_part`. For example, by enabling only the `use_Linear_part` and `use_FM_part`, we can get a classical FM model.\n",
    "\n",
    "In this notebook, we test xDeepFM on two datasets: 1) a small synthetic dataset and 2) [Criteo dataset](http://labs.criteo.com/category/dataset)"
   ]
  },
  {
   "cell_type": "markdown",
   "metadata": {},
   "source": [
    "## 0. Global Settings and Imports"
   ]
  },
  {
   "cell_type": "code",
   "execution_count": 1,
   "metadata": {},
   "outputs": [
    {
     "output_type": "stream",
     "name": "stdout",
     "text": [
      "System version: 3.7.9 (default, Aug 31 2020, 07:22:35) \n[Clang 10.0.0 ]\nTensorflow version: 1.15.0\n"
     ]
    }
   ],
   "source": [
    "import sys\n",
    "# sys.path.append(\"../../\")\n",
    "import os\n",
    "import papermill as pm\n",
    "from pathlib import Path\n",
    "from tempfile import TemporaryDirectory\n",
    "\n",
    "import tensorflow as tf\n",
    "\n",
    "from reco_utils.common.constants import SEED\n",
    "from reco_utils.recommender.deeprec.deeprec_utils import (\n",
    "    download_deeprec_resources, prepare_hparams\n",
    ")\n",
    "from reco_utils.recommender.deeprec.models.xDeepFM import XDeepFMModel\n",
    "from reco_utils.recommender.deeprec.io.iterator import FFMTextIterator\n",
    "\n",
    "print(\"System version: {}\".format(sys.version))\n",
    "print(\"Tensorflow version: {}\".format(tf.__version__))\n",
    "\n",
    "# tmpdir = TemporaryDirectory()\n",
    "tmpdir = Path('./')"
   ]
  },
  {
   "cell_type": "code",
   "execution_count": 4,
   "metadata": {},
   "outputs": [
    {
     "output_type": "stream",
     "name": "stdout",
     "text": [
      "<TemporaryDirectory '/var/folders/r7/r_tzd68s2k59svm5wd46f7dc0000gn/T/tmphoehnwx_'>\n"
     ]
    }
   ],
   "source": [
    "print(tmpdir)"
   ]
  },
  {
   "cell_type": "markdown",
   "metadata": {},
   "source": [
    "#### Parameters"
   ]
  },
  {
   "cell_type": "code",
   "execution_count": 3,
   "metadata": {
    "tags": [
     "parameters"
    ]
   },
   "outputs": [],
   "source": [
    "EPOCHS_FOR_SYNTHETIC_RUN = 15\n",
    "EPOCHS_FOR_CRITEO_RUN = 50\n",
    "BATCH_SIZE_SYNTHETIC = 128\n",
    "BATCH_SIZE_CRITEO = 4096\n",
    "RANDOM_SEED = SEED  # Set None for non-deterministic result"
   ]
  },
  {
   "cell_type": "markdown",
   "metadata": {},
   "source": [
    "xDeepFM uses the FFM format as data input: `<label> <field_id>:<feature_id>:<feature_value>`  \n",
    "Each line represents an instance, `<label>` is a binary value with 1 meaning positive instance and 0 meaning negative instance. \n",
    "Features are divided into fields. For example, user's gender is a field, it contains three possible values, i.e. male, female and unknown. Occupation can be another field, which contains many more possible values than the gender field. Both field index and feature index are starting from 1. <br>\n",
    "\n",
    "## 1. Synthetic data\n",
    "Now let's start with a small synthetic dataset. In this dataset, there are 10 fields, 1000 fefatures, and label is generated according to the result of a set of preset pair-wise feature interactions. "
   ]
  },
  {
   "cell_type": "code",
   "execution_count": 4,
   "metadata": {},
   "outputs": [],
   "source": [
    "data_path = tmpdir.name\n",
    "yaml_file = os.path.join(data_path, r'xDeepFM.yaml')\n",
    "train_file = os.path.join(data_path, r'synthetic_part_0')\n",
    "valid_file = os.path.join(data_path, r'synthetic_part_1')\n",
    "test_file = os.path.join(data_path, r'synthetic_part_2')\n",
    "output_file = os.path.join(data_path, r'output.txt')\n",
    "\n",
    "if not os.path.exists(yaml_file):\n",
    "    download_deeprec_resources(r'https://recodatasets.blob.core.windows.net/deeprec/', data_path, 'xdeepfmresources.zip')\n"
   ]
  },
  {
   "cell_type": "markdown",
   "metadata": {},
   "source": [
    "#### 1.1 Prepare hyper-parameters\n",
    "prepare_hparams() will create a full set of hyper-parameters for model training, such as learning rate, feature number, and dropout ratio. We can put those parameters in a yaml file, or pass parameters as the function's parameters (which will overwrite yaml settings)."
   ]
  },
  {
   "cell_type": "code",
   "execution_count": 10,
   "metadata": {
    "scrolled": true
   },
   "outputs": [
    {
     "output_type": "stream",
     "name": "stdout",
     "text": [
      "WARNING:tensorflow:\n",
      "The TensorFlow contrib module will not be included in TensorFlow 2.0.\n",
      "For more information, please see:\n",
      "  * https://github.com/tensorflow/community/blob/master/rfcs/20180907-contrib-sunset.md\n",
      "  * https://github.com/tensorflow/addons\n",
      "  * https://github.com/tensorflow/io (for I/O related ops)\n",
      "If you depend on functionality not listed there, please file an issue.\n",
      "\n",
      "kg_file=None,user_clicks=None,FEATURE_COUNT=1000,FIELD_COUNT=10,data_format=ffm,PAIR_NUM=None,DNN_FIELD_NUM=None,n_user=None,n_item=None,n_user_attr=None,n_item_attr=None,iterator_type=None,SUMMARIES_DIR=None,MODEL_DIR=None,wordEmb_file=None,entityEmb_file=None,contextEmb_file=None,news_feature_file=None,user_history_file=None,use_entity=True,use_context=True,doc_size=None,history_size=None,word_size=None,entity_size=None,entity_dim=None,entity_embedding_method=None,transform=None,train_ratio=None,dim=10,layer_sizes=[100, 100],cross_layer_sizes=[1],cross_layers=None,activation=['relu', 'relu'],cross_activation=identity,user_dropout=False,dropout=[0.0, 0.0],attention_layer_sizes=None,attention_activation=None,attention_dropout=0.0,model_type=xDeepFM,method=classification,load_saved_model=False,load_model_name=you model path,filter_sizes=None,num_filters=None,mu=None,fast_CIN_d=0,use_Linear_part=False,use_FM_part=False,use_CIN_part=True,use_DNN_part=False,init_method=tnormal,init_value=0.3,embed_l2=0.0001,embed_l1=0.0,layer_l2=0.0001,layer_l1=0.0,cross_l2=0.0001,cross_l1=0.0,reg_kg=0.0,learning_rate=0.001,lr_rs=1,lr_kg=0.5,kg_training_interval=5,max_grad_norm=2,is_clip_norm=0,dtype=32,loss=log_loss,optimizer=adam,epochs=15,batch_size=128,enable_BN=False,show_step=200000,save_model=False,save_epoch=2,metrics=['auc', 'logloss'],write_tfevents=False,item_embedding_dim=None,cate_embedding_dim=None,user_embedding_dim=None,train_num_ngs=4,need_sample=True,embedding_dropout=0.3,user_vocab=None,item_vocab=None,cate_vocab=None,pairwise_metrics=None,EARLY_STOP=100,max_seq_length=None,hidden_size=None,L=None,T=None,n_v=None,n_h=None,min_seq_length=1,attention_size=None,att_fcn_layer_sizes=None,dilations=None,kernel_size=None,embed_size=None,n_layers=None,decay=None,eval_epoch=None,top_k=None\n"
     ]
    }
   ],
   "source": [
    "hparams = prepare_hparams(yaml_file, \n",
    "                          FEATURE_COUNT=1000, \n",
    "                          FIELD_COUNT=10, \n",
    "                          cross_l2=0.0001, \n",
    "                          embed_l2=0.0001, \n",
    "                          learning_rate=0.001, \n",
    "                          epochs=EPOCHS_FOR_SYNTHETIC_RUN,\n",
    "                          batch_size=BATCH_SIZE_SYNTHETIC)\n",
    "print(hparams)"
   ]
  },
  {
   "cell_type": "markdown",
   "metadata": {},
   "source": [
    "#### 1.2 Create data loader\n",
    "Designate a data iterator for the model. xDeepFM uses FFMTextIterator. "
   ]
  },
  {
   "cell_type": "code",
   "execution_count": 11,
   "metadata": {},
   "outputs": [],
   "source": [
    "input_creator = FFMTextIterator"
   ]
  },
  {
   "cell_type": "markdown",
   "metadata": {},
   "source": [
    "#### 1.3 Create model\n",
    "When both hyper-parameters and data iterator are ready, we can create a model:"
   ]
  },
  {
   "cell_type": "code",
   "execution_count": 12,
   "metadata": {},
   "outputs": [
    {
     "output_type": "stream",
     "name": "stdout",
     "text": [
      "WARNING:tensorflow:From /Users/dyc/Documents/大数据分析/recommendation/xdeepfmresources/reco_utils/recommender/deeprec/io/iterator.py:50: The name tf.placeholder is deprecated. Please use tf.compat.v1.placeholder instead.\n",
      "\n",
      "WARNING:tensorflow:From /Users/dyc/Documents/大数据分析/recommendation/xdeepfmresources/reco_utils/recommender/deeprec/models/xDeepFM.py:32: The name tf.variable_scope is deprecated. Please use tf.compat.v1.variable_scope instead.\n",
      "\n",
      "WARNING:tensorflow:From /Users/dyc/Documents/大数据分析/recommendation/xdeepfmresources/reco_utils/recommender/deeprec/models/xDeepFM.py:34: The name tf.get_variable is deprecated. Please use tf.compat.v1.get_variable instead.\n",
      "\n",
      "Add CIN part.\n",
      "WARNING:tensorflow:From /Users/dyc/Documents/大数据分析/recommendation/xdeepfmresources/reco_utils/recommender/deeprec/models/xDeepFM.py:199: The name tf.matrix_band_part is deprecated. Please use tf.linalg.band_part instead.\n",
      "\n",
      "WARNING:tensorflow:From /Users/dyc/Documents/大数据分析/recommendation/xdeepfmresources/reco_utils/recommender/deeprec/models/xDeepFM.py:199: The name tf.diag is deprecated. Please use tf.linalg.tensor_diag instead.\n",
      "\n",
      "WARNING:tensorflow:From /Users/dyc/Documents/大数据分析/recommendation/xdeepfmresources/reco_utils/recommender/deeprec/models/xDeepFM.py:277: The name tf.nn.xw_plus_b is deprecated. Please use tf.compat.v1.nn.xw_plus_b instead.\n",
      "\n",
      "WARNING:tensorflow:From /Users/dyc/opt/anaconda3/envs/tf1py37/lib/python3.7/site-packages/tensorflow_core/python/ops/losses/losses_impl.py:121: where (from tensorflow.python.ops.array_ops) is deprecated and will be removed in a future version.\n",
      "Instructions for updating:\n",
      "Use tf.where in 2.0, which has the same broadcast rule as np.where\n"
     ]
    }
   ],
   "source": [
    "model = XDeepFMModel(hparams, input_creator, seed=RANDOM_SEED)\n",
    "\n",
    "## sometimes we don't want to train a model from scratch\n",
    "## then we can load a pre-trained model like this: \n",
    "#model.load_model(r'your_model_path')"
   ]
  },
  {
   "cell_type": "markdown",
   "metadata": {},
   "source": [
    "Now let's see what is the model's performance at this point (without starting training):"
   ]
  },
  {
   "cell_type": "code",
   "execution_count": 13,
   "metadata": {},
   "outputs": [
    {
     "output_type": "stream",
     "name": "stdout",
     "text": [
      "WARNING:tensorflow:From /Users/dyc/Documents/大数据分析/recommendation/xdeepfmresources/reco_utils/recommender/deeprec/io/iterator.py:113: The name tf.gfile.GFile is deprecated. Please use tf.io.gfile.GFile instead.\n",
      "\n",
      "{'auc': 0.5043, 'logloss': 0.7515}\n"
     ]
    }
   ],
   "source": [
    "print(model.run_eval(test_file))"
   ]
  },
  {
   "cell_type": "markdown",
   "metadata": {},
   "source": [
    "AUC=0.5 is a state of random guess. We can see that before training, the model behaves like random guessing.\n",
    "\n",
    "#### 1.4 Train model\n",
    "Next we want to train the model on a training set, and check the performance on a validation dataset. Training the model is as simple as a function call:"
   ]
  },
  {
   "cell_type": "code",
   "execution_count": 14,
   "metadata": {},
   "outputs": [
    {
     "output_type": "stream",
     "name": "stdout",
     "text": [
      "at epoch 1\n",
      "train info: logloss loss:0.7556826062628493\n",
      "eval info: auc:0.504, logloss:0.7042\n",
      "at epoch 1 , train time: 3.4 eval time: 0.5\n",
      "at epoch 2\n",
      "train info: logloss loss:0.7263523223473853\n",
      "eval info: auc:0.5066, logloss:0.6973\n",
      "at epoch 2 , train time: 3.2 eval time: 0.6\n",
      "at epoch 3\n",
      "train info: logloss loss:0.7177084260380145\n",
      "eval info: auc:0.5099, logloss:0.6953\n",
      "at epoch 3 , train time: 3.6 eval time: 0.6\n",
      "at epoch 4\n",
      "train info: logloss loss:0.7118660176742527\n",
      "eval info: auc:0.5147, logloss:0.6946\n",
      "at epoch 4 , train time: 3.2 eval time: 0.6\n",
      "at epoch 5\n",
      "train info: logloss loss:0.7055103242192481\n",
      "eval info: auc:0.523, logloss:0.6941\n",
      "at epoch 5 , train time: 3.3 eval time: 0.6\n",
      "at epoch 6\n",
      "train info: logloss loss:0.6954095468078691\n",
      "eval info: auc:0.5416, logloss:0.6929\n",
      "at epoch 6 , train time: 3.2 eval time: 0.5\n",
      "at epoch 7\n",
      "train info: logloss loss:0.6723949976803101\n",
      "eval info: auc:0.5916, logloss:0.6831\n",
      "at epoch 7 , train time: 3.2 eval time: 0.6\n",
      "at epoch 8\n",
      "train info: logloss loss:0.6119807492621576\n",
      "eval info: auc:0.7024, logloss:0.6288\n",
      "at epoch 8 , train time: 3.1 eval time: 0.6\n",
      "at epoch 9\n",
      "train info: logloss loss:0.5020269815045124\n",
      "eval info: auc:0.8154, logloss:0.5257\n",
      "at epoch 9 , train time: 3.1 eval time: 0.5\n",
      "at epoch 10\n",
      "train info: logloss loss:0.38994714781590756\n",
      "eval info: auc:0.8826, logloss:0.4315\n",
      "at epoch 10 , train time: 3.2 eval time: 0.6\n",
      "at epoch 11\n",
      "train info: logloss loss:0.301445178098695\n",
      "eval info: auc:0.9205, logloss:0.3605\n",
      "at epoch 11 , train time: 3.1 eval time: 0.7\n",
      "at epoch 12\n",
      "train info: logloss loss:0.23429045900446444\n",
      "eval info: auc:0.9431, logloss:0.3082\n",
      "at epoch 12 , train time: 3.2 eval time: 0.5\n",
      "at epoch 13\n",
      "train info: logloss loss:0.18283961359987555\n",
      "eval info: auc:0.9577, logloss:0.2682\n",
      "at epoch 13 , train time: 3.3 eval time: 0.9\n",
      "at epoch 14\n",
      "train info: logloss loss:0.1428092379391808\n",
      "eval info: auc:0.9676, logloss:0.2369\n",
      "at epoch 14 , train time: 3.5 eval time: 0.6\n",
      "at epoch 15\n",
      "train info: logloss loss:0.11175786883048586\n",
      "eval info: auc:0.9745, logloss:0.2128\n",
      "at epoch 15 , train time: 3.1 eval time: 0.5\n"
     ]
    },
    {
     "output_type": "execute_result",
     "data": {
      "text/plain": [
       "<reco_utils.recommender.deeprec.models.xDeepFM.XDeepFMModel at 0x7fabb2030990>"
      ]
     },
     "metadata": {},
     "execution_count": 14
    }
   ],
   "source": [
    "model.fit(train_file, valid_file)"
   ]
  },
  {
   "cell_type": "markdown",
   "metadata": {},
   "source": [
    "#### 1.5 Evaluate model\n",
    "\n",
    "Again, let's see what is the model's performance now (after training):"
   ]
  },
  {
   "cell_type": "code",
   "execution_count": 16,
   "metadata": {},
   "outputs": [
    {
     "output_type": "stream",
     "name": "stdout",
     "text": [
      "{'auc': 0.9716, 'logloss': 0.2278}\n"
     ]
    }
   ],
   "source": [
    "res_syn = model.run_eval(test_file)\n",
    "print(res_syn)\n",
    "# pm.record(\"res_syn\", res_syn)"
   ]
  },
  {
   "cell_type": "markdown",
   "metadata": {},
   "source": [
    "If we want to get the full prediction scores rather than evaluation metrics, we can do this:"
   ]
  },
  {
   "cell_type": "code",
   "execution_count": 17,
   "metadata": {},
   "outputs": [
    {
     "output_type": "execute_result",
     "data": {
      "text/plain": [
       "<reco_utils.recommender.deeprec.models.xDeepFM.XDeepFMModel at 0x7fabb2030990>"
      ]
     },
     "metadata": {},
     "execution_count": 17
    }
   ],
   "source": [
    "model.predict(test_file, output_file)"
   ]
  },
  {
   "cell_type": "markdown",
   "metadata": {},
   "source": [
    "## 2. Criteo data \n",
    "\n",
    "Now we have successfully launched an experiment on a synthetic dataset. Next let's try something on a real world dataset, which is a small sample from [Criteo dataset](http://labs.criteo.com/category/dataset). Criteo dataset is a well known industry benchmarking dataset for developing CTR prediction models and it's frequently adopted as evaluation dataset by research papers. The original dataset is too large for a lightweight demo, so we sample a small portion from it as a demo dataset."
   ]
  },
  {
   "cell_type": "code",
   "execution_count": 5,
   "metadata": {},
   "outputs": [
    {
     "output_type": "stream",
     "name": "stdout",
     "text": [
      "demo with Criteo dataset\nWARNING:tensorflow:\nThe TensorFlow contrib module will not be included in TensorFlow 2.0.\nFor more information, please see:\n  * https://github.com/tensorflow/community/blob/master/rfcs/20180907-contrib-sunset.md\n  * https://github.com/tensorflow/addons\n  * https://github.com/tensorflow/io (for I/O related ops)\nIf you depend on functionality not listed there, please file an issue.\n\n"
     ]
    }
   ],
   "source": [
    "print('demo with Criteo dataset')\n",
    "hparams = prepare_hparams(yaml_file, \n",
    "                          FEATURE_COUNT=2300000, \n",
    "                          FIELD_COUNT=39, \n",
    "                          cross_l2=0.01, \n",
    "                          embed_l2=0.01, \n",
    "                          layer_l2=0.01,\n",
    "                          learning_rate=0.002, \n",
    "                          batch_size=BATCH_SIZE_CRITEO, \n",
    "                          epochs=EPOCHS_FOR_CRITEO_RUN, \n",
    "                          cross_layer_sizes=[20, 10], \n",
    "                          init_value=0.1, \n",
    "                          layer_sizes=[20,20],\n",
    "                          use_Linear_part=True, \n",
    "                          use_CIN_part=True, \n",
    "                          use_DNN_part=True)\n",
    "\n",
    "train_file = os.path.join(data_path, r'cretio_tiny_train')\n",
    "valid_file = os.path.join(data_path, r'cretio_tiny_valid')\n",
    "test_file = os.path.join(data_path, r'cretio_tiny_test')"
   ]
  },
  {
   "cell_type": "code",
   "execution_count": 7,
   "metadata": {},
   "outputs": [
    {
     "output_type": "stream",
     "name": "stdout",
     "text": [
      "Add linear part.\n",
      "Add CIN part.\n",
      "Add DNN part.\n",
      "{'auc': 0.4728, 'logloss': 0.7113}\n",
      "at epoch 1\n",
      "train info: logloss loss:744.360179901123\n",
      "eval info: auc:0.6637, logloss:0.5342\n",
      "at epoch 1 , train time: 32.2 eval time: 4.7\n",
      "at epoch 2\n",
      "train info: logloss loss:385.6692409515381\n",
      "eval info: auc:0.7137, logloss:0.5109\n",
      "at epoch 2 , train time: 31.8 eval time: 5.2\n",
      "at epoch 3\n",
      "train info: logloss loss:191.50827884674072\n",
      "eval info: auc:0.7283, logloss:0.5037\n",
      "at epoch 3 , train time: 32.4 eval time: 5.1\n",
      "at epoch 4\n",
      "train info: logloss loss:92.20772361755371\n",
      "eval info: auc:0.7359, logloss:0.4991\n",
      "at epoch 4 , train time: 31.9 eval time: 5.2\n",
      "at epoch 5\n",
      "train info: logloss loss:43.1594443321228\n",
      "eval info: auc:0.74, logloss:0.4963\n",
      "at epoch 5 , train time: 31.6 eval time: 4.9\n",
      "at epoch 6\n",
      "train info: logloss loss:19.656914949417114\n",
      "eval info: auc:0.7426, logloss:0.4946\n",
      "at epoch 6 , train time: 33.0 eval time: 4.8\n",
      "at epoch 7\n",
      "train info: logloss loss:8.770353466272354\n",
      "eval info: auc:0.7441, logloss:0.4934\n",
      "at epoch 7 , train time: 32.1 eval time: 4.9\n",
      "at epoch 8\n",
      "train info: logloss loss:3.922733321785927\n",
      "eval info: auc:0.7453, logloss:0.4925\n",
      "at epoch 8 , train time: 31.2 eval time: 4.7\n",
      "at epoch 9\n",
      "train info: logloss loss:1.8598760291934013\n",
      "eval info: auc:0.7462, logloss:0.4917\n",
      "at epoch 9 , train time: 30.2 eval time: 4.6\n",
      "at epoch 10\n",
      "train info: logloss loss:1.0249392613768578\n",
      "eval info: auc:0.747, logloss:0.491\n",
      "at epoch 10 , train time: 30.7 eval time: 4.6\n",
      "at epoch 11\n",
      "train info: logloss loss:0.7044877260923386\n",
      "eval info: auc:0.7476, logloss:0.4904\n",
      "at epoch 11 , train time: 30.3 eval time: 4.7\n",
      "at epoch 12\n",
      "train info: logloss loss:0.5878578685224056\n",
      "eval info: auc:0.7482, logloss:0.49\n",
      "at epoch 12 , train time: 30.9 eval time: 4.7\n",
      "at epoch 13\n",
      "train info: logloss loss:0.547260794788599\n",
      "eval info: auc:0.7487, logloss:0.4897\n",
      "at epoch 13 , train time: 30.8 eval time: 4.6\n",
      "at epoch 14\n",
      "train info: logloss loss:0.5333645790815353\n",
      "eval info: auc:0.7493, logloss:0.4893\n",
      "at epoch 14 , train time: 31.0 eval time: 115.3\n",
      "at epoch 15\n",
      "train info: logloss loss:0.528324618935585\n",
      "eval info: auc:0.7498, logloss:0.4889\n",
      "at epoch 15 , train time: 1306.5 eval time: 7.8\n",
      "at epoch 16\n",
      "train info: logloss loss:0.5261308327317238\n",
      "eval info: auc:0.7505, logloss:0.4884\n",
      "at epoch 16 , train time: 36.5 eval time: 5.6\n",
      "at epoch 17\n",
      "train info: logloss loss:0.5248895026743412\n",
      "eval info: auc:0.7512, logloss:0.4879\n",
      "at epoch 17 , train time: 32.9 eval time: 5.9\n",
      "at epoch 18\n",
      "train info: logloss loss:0.5240324176847935\n",
      "eval info: auc:0.752, logloss:0.4874\n",
      "at epoch 18 , train time: 35.4 eval time: 4.8\n",
      "at epoch 19\n",
      "train info: logloss loss:0.5233860053122044\n",
      "eval info: auc:0.7528, logloss:0.4867\n",
      "at epoch 19 , train time: 33.1 eval time: 5.0\n",
      "at epoch 20\n",
      "train info: logloss loss:0.5228838697075844\n",
      "eval info: auc:0.7537, logloss:0.4861\n",
      "at epoch 20 , train time: 31.3 eval time: 4.9\n",
      "at epoch 21\n",
      "train info: logloss loss:0.5224888883531094\n",
      "eval info: auc:0.7546, logloss:0.4855\n",
      "at epoch 21 , train time: 31.4 eval time: 4.6\n",
      "at epoch 22\n",
      "train info: logloss loss:0.5221624374389648\n",
      "eval info: auc:0.7554, logloss:0.4849\n",
      "at epoch 22 , train time: 31.0 eval time: 4.6\n",
      "at epoch 23\n",
      "train info: logloss loss:0.5218870677053928\n",
      "eval info: auc:0.7561, logloss:0.4843\n",
      "at epoch 23 , train time: 30.9 eval time: 4.7\n",
      "at epoch 24\n",
      "train info: logloss loss:0.5216273218393326\n",
      "eval info: auc:0.7568, logloss:0.4838\n",
      "at epoch 24 , train time: 30.6 eval time: 4.7\n",
      "at epoch 25\n",
      "train info: logloss loss:0.5213616266846657\n",
      "eval info: auc:0.7574, logloss:0.4833\n",
      "at epoch 25 , train time: 31.3 eval time: 4.6\n",
      "at epoch 26\n",
      "train info: logloss loss:0.5210906006395817\n",
      "eval info: auc:0.7579, logloss:0.4829\n",
      "at epoch 26 , train time: 31.3 eval time: 5.1\n",
      "at epoch 27\n",
      "train info: logloss loss:0.5208015814423561\n",
      "eval info: auc:0.7583, logloss:0.4825\n",
      "at epoch 27 , train time: 33.2 eval time: 5.2\n",
      "at epoch 28\n",
      "train info: logloss loss:0.5204918123781681\n",
      "eval info: auc:0.7587, logloss:0.4821\n",
      "at epoch 28 , train time: 34.2 eval time: 4.9\n",
      "at epoch 29\n",
      "train info: logloss loss:0.5201631151139736\n",
      "eval info: auc:0.759, logloss:0.4818\n",
      "at epoch 29 , train time: 33.5 eval time: 5.2\n",
      "at epoch 30\n",
      "train info: logloss loss:0.5197935476899147\n",
      "eval info: auc:0.7592, logloss:0.4816\n",
      "at epoch 30 , train time: 34.4 eval time: 5.2\n",
      "{'auc': 0.749, 'logloss': 0.4926}\n"
     ]
    }
   ],
   "source": [
    "model = XDeepFMModel(hparams, FFMTextIterator, seed=RANDOM_SEED)\n",
    "\n",
    "# check the predictive performance before the model is trained\n",
    "print(model.run_eval(test_file)) \n",
    "model.fit(train_file, valid_file)\n",
    "# check the predictive performance after the model is trained\n",
    "res_real = model.run_eval(test_file)\n",
    "print(res_real)\n",
    "# pm.record(\"res_real\", res_real)"
   ]
  },
  {
   "cell_type": "markdown",
   "metadata": {},
   "source": [
    "## Reference\n",
    "\\[1\\] Lian, J., Zhou, X., Zhang, F., Chen, Z., Xie, X., & Sun, G. (2018). xDeepFM: Combining Explicit and Implicit Feature Interactions for Recommender Systems. Proceedings of the 24th ACM SIGKDD International Conference on Knowledge Discovery \\& Data Mining, KDD 2018, London, UK, August 19-23, 2018.<br>"
   ]
  },
  {
   "cell_type": "code",
   "execution_count": 13,
   "metadata": {},
   "outputs": [],
   "source": [
    "# Cleanup\n",
    "# tmpdir.cleanup()"
   ]
  }
 ],
 "metadata": {
  "celltoolbar": "Tags",
  "kernelspec": {
   "name": "python3",
   "display_name": "Python 3.7.9 64-bit ('tf1py37': conda)",
   "metadata": {
    "interpreter": {
     "hash": "a7ba1b4635f3939775d80e080eab687dce77ba47856f02e5f53bdb7094254048"
    }
   }
  },
  "language_info": {
   "codemirror_mode": {
    "name": "ipython",
    "version": 3
   },
   "file_extension": ".py",
   "mimetype": "text/x-python",
   "name": "python",
   "nbconvert_exporter": "python",
   "pygments_lexer": "ipython3",
   "version": "3.7.9-final"
  }
 },
 "nbformat": 4,
 "nbformat_minor": 2
}